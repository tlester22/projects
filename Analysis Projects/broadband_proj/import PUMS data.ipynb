{
 "cells": [
  {
   "metadata": {},
   "cell_type": "markdown",
   "source": "**Similar to my first project. I am using more variables to create a complex, realistic picture of what income looks like.**",
   "id": "5ed5ca81d993cf08"
  },
  {
   "metadata": {},
   "cell_type": "markdown",
   "source": "*This is data cleaning only. Statistical analysis was conducted in R.*",
   "id": "1eb53a31a72472e2"
  },
  {
   "metadata": {},
   "cell_type": "markdown",
   "source": [
    "I filtered ACS PUMS 1-year data from 2018 for the columns ST, HISPEED, HINCP, PAP, GRPIP, FS, and FES.\n",
    "  \n",
    "The ST column is used to indicate the state from which the individual claims residence. I filtered the dataset for only rows with individuals from New York State. New York State’s numerical value in this column is ‘36’. \n",
    "\n",
    "The HISPEED column is used to indicate whether the individual has access to high-speed, broadband internet or not. The value options for this column were 0 indicating no paid internet access, 1 indicating access to broadband internet, and 2 indicating internet access but not broadband internet. I used all available values in this column.\n",
    "\n",
    "The HINCP column is used to indicate the total income of the individual's household. I used all available values in this column, including the value’-60,000’ which was used to indicate group quarters.  \n",
    "\n",
    "The FS column is used to indicate recipients of aid from the Supplemental Nutrition Assistance Program (SNAP). I filtered this column to remove N/A values. The values in this column are 1, indicating that the individual does receive assistance, and 2, indicating that the individual does not receive assistance. I replaced the 2 values with 0 so that the data would resemble a True or False format. \n",
    "\n",
    "The FES column gave details about how many parents in the household were employed. I filtered this data to exclude N/A values. There were 8 remaining columns detailing different living situations, however, I replaced these with 3 values. I used 0 to indicate neither parents are employed, 1 to indicate that one parent was employed, and 2 to indicate that both parents were employed. The PAP column indicates a value for how much public assistance income an individual receives. I filtered this column to exclude children younger than 15. \n",
    "\n",
    "Finally, the GRPIP column indicates the percentage of total income that the individual's rent makes up. I filtered this column to exclude people who were not paying rent."
   ],
   "id": "f24db13f569147f5"
  },
  {
   "metadata": {
    "ExecuteTime": {
     "end_time": "2024-04-23T02:39:46.966236Z",
     "start_time": "2024-04-23T02:39:36.671667Z"
    }
   },
   "cell_type": "code",
   "source": [
    "#importing the necessary packages for data requisition \n",
    "import requests\n",
    "import pandas as pd\n",
    "\n",
    "def get_df(url):\n",
    "    '''This is a function that retreived ACS PUMS data that I specified and inserts it into a DataFrame.\n",
    "    I extracted the broadband, household income, wage and state columns spefically.'''\n",
    "    data = requests.get(url)\n",
    "    table = data.json()\n",
    "    \n",
    "\n",
    "    column_1 = []\n",
    "    column_2 = []\n",
    "    column_3 = []\n",
    "    column_4 = []\n",
    "    column_5 = []\n",
    "    column_6 = []\n",
    "    column_7 = []\n",
    "    \n",
    "    for item in table:\n",
    "        column_1.append(item[0])\n",
    "        column_2.append(item[1])\n",
    "        column_3.append(item[2])\n",
    "        column_4.append(item[3])\n",
    "        column_5.append(item[4])\n",
    "        column_6.append(item[5])\n",
    "        column_7.append(item[6])\n",
    "\n",
    "    df = pd.DataFrame()\n",
    "    df[column_1[0]] = column_1[1:]\n",
    "    df[column_2[0]] = column_2[1:]\n",
    "    df[column_3[0]] = column_3[1:]\n",
    "    df[column_4[0]] = column_4[1:]\n",
    "    df[column_5[0]] = column_5[1:]\n",
    "    df[column_6[0]] = column_6[1:]\n",
    "    df[column_7[0]] = column_7[1:]\n",
    "\n",
    "    return df\n",
    "\n",
    "# running the function on link retrieved from the census website\n",
    "df = get_df('https://api.census.gov/data/2018/acs/acs1/pums?get=HINCP,ST,HISPEED&PAP=0&PAP=4:30000&GRPIP=101&GRPIP=1:100&FS=1&FS=2&FES=1&FES=2&FES=3&FES=4&FES=5&FES=6&FES=7&FES=8&PAP=0&PAP=4:30000&GRPIP=101&GRPIP=1:100')"
   ],
   "id": "initial_id",
   "outputs": [],
   "execution_count": 2
  },
  {
   "metadata": {
    "ExecuteTime": {
     "end_time": "2024-04-23T02:39:46.982222Z",
     "start_time": "2024-04-23T02:39:46.968221Z"
    }
   },
   "cell_type": "code",
   "source": "print(df.head())",
   "id": "6400f9eb4f512247",
   "outputs": [
    {
     "name": "stdout",
     "output_type": "stream",
     "text": [
      "   HINCP  ST HISPEED PAP GRPIP FS FES\n",
      "0  83700  26       0   0    14  2   1\n",
      "1  83700  26       0   0    14  2   1\n",
      "2  83700  26       0   0    14  2   1\n",
      "3  83700  26       0   0    14  2   1\n",
      "4  59000  18       1   0    17  2   4\n"
     ]
    }
   ],
   "execution_count": 3
  },
  {
   "metadata": {
    "ExecuteTime": {
     "end_time": "2024-04-23T02:39:47.156235Z",
     "start_time": "2024-04-23T02:39:46.984221Z"
    }
   },
   "cell_type": "code",
   "source": [
    "convert_dict = {\n",
    "    'PAP':int,  \n",
    "    'HINCP':int,\n",
    "    'ST':int,\n",
    "    'FS': int,\n",
    "    'GRPIP':int,\n",
    "    'FES': int,\n",
    "    'HISPEED':int\n",
    "}\n",
    "\n",
    "clean_df = df.astype(convert_dict)"
   ],
   "id": "986aaf35d273809c",
   "outputs": [],
   "execution_count": 4
  },
  {
   "metadata": {
    "ExecuteTime": {
     "end_time": "2024-04-23T02:39:47.187236Z",
     "start_time": "2024-04-23T02:39:47.158224Z"
    }
   },
   "cell_type": "code",
   "source": "clean_df=clean_df[clean_df['ST'] == 36]",
   "id": "3996c8804a7fd708",
   "outputs": [],
   "execution_count": 5
  },
  {
   "metadata": {
    "ExecuteTime": {
     "end_time": "2024-04-23T02:39:47.203222Z",
     "start_time": "2024-04-23T02:39:47.188221Z"
    }
   },
   "cell_type": "code",
   "source": "print(clean_df.head())",
   "id": "23a28d19a1fcf544",
   "outputs": [
    {
     "name": "stdout",
     "output_type": "stream",
     "text": [
      "     HINCP  ST  HISPEED  PAP  GRPIP  FS  FES\n",
      "39     390  36        0  390    101   1    8\n",
      "76  106600  36        1    0     14   2    8\n",
      "77  106600  36        1    0     14   2    8\n",
      "91   80000  36        1    0     27   2    5\n",
      "92   80000  36        1    0     27   2    5\n"
     ]
    }
   ],
   "execution_count": 6
  },
  {
   "metadata": {
    "ExecuteTime": {
     "end_time": "2024-04-23T02:39:47.219236Z",
     "start_time": "2024-04-23T02:39:47.205231Z"
    }
   },
   "cell_type": "code",
   "source": [
    "# dropping the state column because it is no longer necessary for testing\n",
    "clean_df.drop(columns='ST', inplace=True)"
   ],
   "id": "2164d8f1a82b68f",
   "outputs": [],
   "execution_count": 7
  },
  {
   "metadata": {
    "ExecuteTime": {
     "end_time": "2024-04-23T02:39:47.235221Z",
     "start_time": "2024-04-23T02:39:47.220222Z"
    }
   },
   "cell_type": "code",
   "source": [
    "# replacing 2 values with 0 to follow True or False values\n",
    "clean_df['FS'].replace(2, 0 , inplace=True)"
   ],
   "id": "152e333eb20f6ed3",
   "outputs": [],
   "execution_count": 8
  },
  {
   "metadata": {
    "ExecuteTime": {
     "end_time": "2024-04-23T02:39:47.250224Z",
     "start_time": "2024-04-23T02:39:47.238225Z"
    }
   },
   "cell_type": "code",
   "source": "print(clean_df.head())",
   "id": "ba9ab609342d3b84",
   "outputs": [
    {
     "name": "stdout",
     "output_type": "stream",
     "text": [
      "     HINCP  HISPEED  PAP  GRPIP  FS  FES\n",
      "39     390        0  390    101   1    8\n",
      "76  106600        1    0     14   0    8\n",
      "77  106600        1    0     14   0    8\n",
      "91   80000        1    0     27   0    5\n",
      "92   80000        1    0     27   0    5\n"
     ]
    }
   ],
   "execution_count": 9
  },
  {
   "metadata": {
    "ExecuteTime": {
     "end_time": "2024-04-23T02:39:47.266223Z",
     "start_time": "2024-04-23T02:39:47.252222Z"
    }
   },
   "cell_type": "code",
   "source": [
    "FES_dict ={\n",
    "    1: 2,\n",
    "    2: 1,\n",
    "    3: 1,\n",
    "    4: 0,\n",
    "    5: 1,\n",
    "    6: 0,\n",
    "    7: 1,\n",
    "    8: 0\n",
    "}\n",
    "clean_df['FES'].replace(FES_dict, inplace=True)"
   ],
   "id": "7aac54a2ff8a2b",
   "outputs": [],
   "execution_count": 10
  },
  {
   "metadata": {
    "ExecuteTime": {
     "end_time": "2024-04-23T02:39:47.281221Z",
     "start_time": "2024-04-23T02:39:47.268223Z"
    }
   },
   "cell_type": "code",
   "source": [
    "HISPEED_dict = {\n",
    "    1: 2,\n",
    "    2: 1\n",
    "}\n",
    "clean_df['HISPEED'].replace(HISPEED_dict, inplace=True)"
   ],
   "id": "3083c9e58d69cc16",
   "outputs": [],
   "execution_count": 11
  },
  {
   "metadata": {
    "ExecuteTime": {
     "end_time": "2024-04-23T02:39:47.297221Z",
     "start_time": "2024-04-23T02:39:47.282223Z"
    }
   },
   "cell_type": "code",
   "source": "print(clean_df.sample(15))",
   "id": "f7b470d9d1a6954a",
   "outputs": [
    {
     "name": "stdout",
     "output_type": "stream",
     "text": [
      "         HINCP  HISPEED  PAP  GRPIP  FS  FES\n",
      "49919   158000        2    0     12   0    2\n",
      "135947   13500        2    0    101   1    0\n",
      "281019   75000        2    0     18   0    2\n",
      "297248  164000        1    0     24   0    2\n",
      "175826   69000        2    0     47   0    1\n",
      "160738   81900        2    0     15   0    1\n",
      "212744  324000        2    0     15   0    2\n",
      "121693   20200        2    0     35   1    2\n",
      "11460    21060        0    0     70   1    1\n",
      "85658    34600        1    0      9   1    0\n",
      "299361   17600        0    0     35   1    0\n",
      "245265   78100        1    0     23   1    1\n",
      "83304     8000        2    0    101   0    1\n",
      "274652   58600        0    0     33   1    0\n",
      "283165  212500        2    0     16   1    2\n"
     ]
    }
   ],
   "execution_count": 12
  },
  {
   "metadata": {
    "ExecuteTime": {
     "end_time": "2024-04-23T02:47:07.919320Z",
     "start_time": "2024-04-23T02:47:07.856310Z"
    }
   },
   "cell_type": "code",
   "source": "clean_df.to_csv('PUMS_multiple_var.csv')",
   "id": "493dede3e630e2d4",
   "outputs": [],
   "execution_count": 19
  },
  {
   "metadata": {},
   "cell_type": "code",
   "outputs": [],
   "execution_count": null,
   "source": "",
   "id": "f12081a03d9a5169"
  }
 ],
 "metadata": {
  "kernelspec": {
   "display_name": "Python 3",
   "language": "python",
   "name": "python3"
  },
  "language_info": {
   "codemirror_mode": {
    "name": "ipython",
    "version": 2
   },
   "file_extension": ".py",
   "mimetype": "text/x-python",
   "name": "python",
   "nbconvert_exporter": "python",
   "pygments_lexer": "ipython2",
   "version": "2.7.6"
  }
 },
 "nbformat": 4,
 "nbformat_minor": 5
}
