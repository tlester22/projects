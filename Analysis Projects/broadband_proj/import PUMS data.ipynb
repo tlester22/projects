{
 "cells": [
  {
   "metadata": {},
   "cell_type": "markdown",
   "source": "**Similar to my first project. I am using more variables to create a complex, realistic picture of what income looks like.**",
   "id": "5ed5ca81d993cf08"
  },
  {
   "metadata": {},
   "cell_type": "markdown",
   "source": "*This is data cleaning only. Statistical analysis was conducted in R.*",
   "id": "1eb53a31a72472e2"
  },
  {
   "metadata": {},
   "cell_type": "markdown",
   "source": [
    "I filtered ACS PUMS 1-year data from 2018 for the columns ST, HISPEED, HINCP, PAP, GRPIP, FS, and FES.\n",
    "  \n",
    "The ST column is used to indicate the state from which the individual claims residence. I filtered the dataset for only rows with individuals from New York State. New York State’s numerical value in this column is ‘36’. \n",
    "\n",
    "The HISPEED column is used to indicate whether the individual has access to high-speed, broadband internet or not. The value options for this column were 0 indicating no paid internet access, 1 indicating access to broadband internet, and 2 indicating internet access but not broadband internet. I used all available values in this column.\n",
    "\n",
    "The HINCP column is used to indicate the total income of the individual's household. I used all available values in this column, including the value’-60,000’ which was used to indicate group quarters.  \n",
    "\n",
    "The FS column is used to indicate recipients of aid from the Supplemental Nutrition Assistance Program (SNAP). I filtered this column to remove N/A values. The values in this column are 1, indicating that the individual does receive assistance, and 2, indicating that the individual does not receive assistance. I replaced the 2 values with 0 so that the data would resemble a True or False format. \n",
    "\n",
    "The FES column gave details about how many parents in the household were employed. I filtered this data to exclude N/A values. There were 8 remaining columns detailing different living situations, however, I replaced these with 3 values. I used 0 to indicate neither parents are employed, 1 to indicate that one parent was employed, and 2 to indicate that both parents were employed. The PAP column indicates a value for how much public assistance income an individual receives. I filtered this column to exclude children younger than 15. \n",
    "\n",
    "Finally, the GRPIP column indicates the percentage of total income that the individual's rent makes up. I filtered this column to exclude people who were not paying rent."
   ],
   "id": "f24db13f569147f5"
  },
  {
   "metadata": {},
   "cell_type": "code",
   "outputs": [],
   "execution_count": 18,
   "source": [
    "#importing the necessary packages for data requisition \n",
    "import requests\n",
    "import pandas as pd\n",
    "\n",
    "def get_df(url):\n",
    "    '''This is a function that retreived ACS PUMS data that I specified and inserts it into a DataFrame.\n",
    "    I extracted the broadband, household income, wage and state columns spefically.'''\n",
    "    data = requests.get(url)\n",
    "    table = data.json()\n",
    "    \n",
    "\n",
    "    column_1 = []\n",
    "    column_2 = []\n",
    "    column_3 = []\n",
    "    column_4 = []\n",
    "    column_5 = []\n",
    "    column_6 = []\n",
    "    column_7 = []\n",
    "    \n",
    "    for item in table:\n",
    "        column_1.append(item[0])\n",
    "        column_2.append(item[1])\n",
    "        column_3.append(item[2])\n",
    "        column_4.append(item[3])\n",
    "        column_5.append(item[4])\n",
    "        column_6.append(item[5])\n",
    "        column_7.append(item[6])\n",
    "\n",
    "    df = pd.DataFrame()\n",
    "    df[column_1[0]] = column_1[1:]\n",
    "    df[column_2[0]] = column_2[1:]\n",
    "    df[column_3[0]] = column_3[1:]\n",
    "    df[column_4[0]] = column_4[1:]\n",
    "    df[column_5[0]] = column_5[1:]\n",
    "    df[column_6[0]] = column_6[1:]\n",
    "    df[column_7[0]] = column_7[1:]\n",
    "\n",
    "    return df\n",
    "\n",
    "# running the function on link retrieved from the census website\n",
    "df = get_df('https://api.census.gov/data/2018/acs/acs1/pums?get=HINCP,ST,HISPEED&PAP=0&PAP=4:30000&GRPIP=101&GRPIP=1:100&FS=1&FS=2&FES=1&FES=2&FES=3&FES=4&FES=5&FES=6&FES=7&FES=8&PAP=0&PAP=4:30000&GRPIP=101&GRPIP=1:100')"
   ],
   "id": "initial_id"
  },
  {
   "metadata": {},
   "cell_type": "code",
   "outputs": [
    {
     "name": "stdout",
     "output_type": "stream",
     "text": [
      "   HINCP  ST HISPEED PAP GRPIP FS FES\n",
      "0  83700  26       0   0    14  2   1\n",
      "1  83700  26       0   0    14  2   1\n",
      "2  83700  26       0   0    14  2   1\n",
      "3  83700  26       0   0    14  2   1\n",
      "4  59000  18       1   0    17  2   4\n"
     ]
    }
   ],
   "execution_count": 19,
   "source": "print(df.head())",
   "id": "6400f9eb4f512247"
  },
  {
   "metadata": {},
   "cell_type": "code",
   "outputs": [],
   "execution_count": 20,
   "source": [
    "convert_dict = {\n",
    "    'PAP':int,  \n",
    "    'HINCP':int,\n",
    "    'ST':int,\n",
    "    'FS': int,\n",
    "    'GRPIP':int,\n",
    "    'FES': int,\n",
    "    'HISPEED':int\n",
    "}\n",
    "\n",
    "clean_df = df.astype(convert_dict)"
   ],
   "id": "986aaf35d273809c"
  },
  {
   "metadata": {},
   "cell_type": "code",
   "outputs": [],
   "execution_count": 21,
   "source": "clean_df=clean_df[clean_df['ST'] == 36]",
   "id": "3996c8804a7fd708"
  },
  {
   "metadata": {},
   "cell_type": "code",
   "outputs": [
    {
     "name": "stdout",
     "output_type": "stream",
     "text": [
      "     HINCP  ST  HISPEED  PAP  GRPIP  FS  FES\n",
      "39     390  36        0  390    101   1    8\n",
      "76  106600  36        1    0     14   2    8\n",
      "77  106600  36        1    0     14   2    8\n",
      "91   80000  36        1    0     27   2    5\n",
      "92   80000  36        1    0     27   2    5\n"
     ]
    }
   ],
   "execution_count": 22,
   "source": "print(clean_df.head())",
   "id": "23a28d19a1fcf544"
  },
  {
   "metadata": {},
   "cell_type": "code",
   "outputs": [],
   "execution_count": 23,
   "source": [
    "# dropping the state column because it is no longer necessary for testing\n",
    "clean_df.drop(columns='ST', inplace=True)"
   ],
   "id": "2164d8f1a82b68f"
  },
  {
   "metadata": {},
   "cell_type": "code",
   "outputs": [],
   "execution_count": 24,
   "source": [
    "# replacing 2 values with 0 to follow True or False values\n",
    "clean_df['FS'].replace(2, 0 , inplace=True)"
   ],
   "id": "152e333eb20f6ed3"
  },
  {
   "metadata": {},
   "cell_type": "code",
   "outputs": [
    {
     "name": "stdout",
     "output_type": "stream",
     "text": [
      "     HINCP  HISPEED  PAP  GRPIP  FS  FES\n",
      "39     390        0  390    101   1    8\n",
      "76  106600        1    0     14   0    8\n",
      "77  106600        1    0     14   0    8\n",
      "91   80000        1    0     27   0    5\n",
      "92   80000        1    0     27   0    5\n"
     ]
    }
   ],
   "execution_count": 25,
   "source": "print(clean_df.head())",
   "id": "ba9ab609342d3b84"
  },
  {
   "metadata": {},
   "cell_type": "code",
   "outputs": [],
   "execution_count": 26,
   "source": [
    "FES_dict ={\n",
    "    1: 2,\n",
    "    2: 1,\n",
    "    3: 1,\n",
    "    4: 0,\n",
    "    5: 1,\n",
    "    6: 0,\n",
    "    7: 1,\n",
    "    8: 0\n",
    "}\n",
    "clean_df.replace(FES_dict, inplace=True)"
   ],
   "id": "7aac54a2ff8a2b"
  },
  {
   "metadata": {},
   "cell_type": "code",
   "outputs": [
    {
     "name": "stdout",
     "output_type": "stream",
     "text": [
      "         HINCP  HISPEED  PAP  GRPIP  FS  FES\n",
      "168698  122100        2    0     19   2    2\n",
      "21008    20000        1    0    101   0    1\n",
      "40705   167000        0    0     19   0    2\n",
      "272992   20600        2    0     41   2    1\n",
      "49241    58320        2    0     29   2    1\n",
      "155351  300000        2    0     14   0    1\n",
      "185913   21600        1    0     91   2    1\n",
      "120213   50000        2    0     28   0    2\n",
      "287199   65000        2    0     32   2    1\n",
      "11459    21060        0  400     70   2    1\n",
      "45773   291340        2    0     12   0    1\n",
      "37208    38800        2    0     43   2    2\n",
      "255188   56810        1    0     33   0    0\n",
      "123342   88000        2    0     19   2    1\n",
      "209291   40000        2    0     41   2    2\n"
     ]
    }
   ],
   "execution_count": 27,
   "source": "print(clean_df.sample(15))",
   "id": "f7b470d9d1a6954a"
  },
  {
   "metadata": {},
   "cell_type": "code",
   "outputs": [],
   "execution_count": 33,
   "source": "clean_df.to_csv('PUMS_multiple_var.csv')",
   "id": "493dede3e630e2d4"
  },
  {
   "metadata": {},
   "cell_type": "code",
   "outputs": [],
   "execution_count": null,
   "source": "",
   "id": "e8523799211e38d9"
  }
 ],
 "metadata": {
  "kernelspec": {
   "display_name": "Python 3",
   "language": "python",
   "name": "python3"
  },
  "language_info": {
   "codemirror_mode": {
    "name": "ipython",
    "version": 2
   },
   "file_extension": ".py",
   "mimetype": "text/x-python",
   "name": "python",
   "nbconvert_exporter": "python",
   "pygments_lexer": "ipython2",
   "version": "2.7.6"
  }
 },
 "nbformat": 4,
 "nbformat_minor": 5
}
